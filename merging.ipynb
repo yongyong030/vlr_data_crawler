{
 "cells": [
  {
   "cell_type": "code",
   "execution_count": 2,
   "metadata": {},
   "outputs": [],
   "source": [
    "import pandas as pd\n",
    "import numpy as np"
   ]
  },
  {
   "cell_type": "code",
   "execution_count": 120,
   "metadata": {},
   "outputs": [],
   "source": [
    "overview = pd.read_csv('C:/Users/WTA/crawler/Overview.csv')\n",
    "perform = pd.read_csv('C:/Users/WTA/crawler/Perform.csv')\n",
    "econ = pd.read_csv('C:/Users/WTA/crawler/Econ.csv')"
   ]
  },
  {
   "cell_type": "code",
   "execution_count": 51,
   "metadata": {},
   "outputs": [
    {
     "name": "stdout",
     "output_type": "stream",
     "text": [
      "         Player Team VS_Team     R    ACS   K  D  A  K_D  KAST  ...  TCT  \\\n",
      "0    Churraaaa   MOX  UC.Fem  0.83  192.0   7  7  0    0   50%  ...   CT   \n",
      "1    Coalflake   MOX  UC.Fem  1.36  184.0   7  3  0    4   80%  ...   CT   \n",
      "2     shazmoon   MOX  UC.Fem  0.91  181.0   6  7  3   -1   70%  ...   CT   \n",
      "3          may   MOX  UC.Fem  1.30  229.0   8  6  6    2   80%  ...   CT   \n",
      "4     peixinho   MOX  UC.Fem  0.35  122.0   3  9  2   -6   40%  ...   CT   \n",
      "..          ...  ...     ...   ...    ...  .. .. ..  ...   ...  ...  ...   \n",
      "335    rawfiul   OGS     BLD  1.47  206.0   9  3  1    6   82%  ...   CT   \n",
      "336   Antidote   OGS     BLD  1.05  178.0   7  6  6    1  100%  ...   CT   \n",
      "337       azys   OGS     BLD  1.26  227.0  10  5  1    5   64%  ...   CT   \n",
      "338        RvK   OGS     BLD  0.91   80.0   4  4  1    0   73%  ...   CT   \n",
      "339  tesseract   OGS     BLD  1.02  302.0  11  9  3    2   91%  ...   CT   \n",
      "\n",
      "          Map  RunTime  First_half  Second_half Conti_score Extended_round  \\\n",
      "0       Pearl  1:12:22           9            4           2              0   \n",
      "1       Pearl  1:12:22           9            4           2              0   \n",
      "2       Pearl  1:12:22           9            4           2              0   \n",
      "3       Pearl  1:12:22           9            4           2              0   \n",
      "4       Pearl  1:12:22           9            4           2              0   \n",
      "..        ...      ...         ...          ...         ...            ...   \n",
      "335  Fracture    53:05           4            6           3              0   \n",
      "336  Fracture    53:05           4            6           3              0   \n",
      "337  Fracture    53:05           4            6           3              0   \n",
      "338  Fracture    53:05           4            6           3              0   \n",
      "339  Fracture    53:05           4            6           3              0   \n",
      "\n",
      "    Score  Winner  data_game_id  \n",
      "0      13       0        133573  \n",
      "1      13       0        133573  \n",
      "2      13       0        133573  \n",
      "3      13       0        133573  \n",
      "4      13       0        133573  \n",
      "..    ...     ...           ...  \n",
      "335    10       0        133756  \n",
      "336    10       0        133756  \n",
      "337    10       0        133756  \n",
      "338    10       0        133756  \n",
      "339    10       0        133756  \n",
      "\n",
      "[340 rows x 25 columns]\n",
      "        Player Team  Op_kill  2K  3K  4K  5K  1v1  1v2  1v3  1v4  1v5  ECON  \\\n",
      "0    Churraaaa  MOX        0   4   2   1   0    0    0    0    0    0    78   \n",
      "1    Coalflake  MOX        0   2   1   0   0    0    0    0    0    0    59   \n",
      "2          may  MOX        0   0   1   0   0    0    0    0    0    0    42   \n",
      "3     shazmoon  MOX        0   2   1   0   0    1    0    0    0    0    36   \n",
      "4     peixinho  MOX        0   3   0   0   0    1    0    0    0    0    47   \n",
      "..         ...  ...      ...  ..  ..  ..  ..  ...  ...  ...  ...  ...   ...   \n",
      "163   Antidote  OGS        0   1   0   0   0    0    0    0    0    0    44   \n",
      "164       azys  OGS        0   2   1   1   0    0    0    0    0    0    46   \n",
      "165        RvK  OGS        0   2   0   0   0    0    0    0    0    0    39   \n",
      "166    rawfiul  OGS        7   4   1   1   0    0    0    0    0    0    77   \n",
      "167  tesseract  OGS        0   4   0   0   0    0    0    0    0    0    50   \n",
      "\n",
      "     PL  DE  data_game_id  \n",
      "0     0   1        133573  \n",
      "1     0   2        133573  \n",
      "2     3   0        133573  \n",
      "3     5   1        133573  \n",
      "4     0   1        133573  \n",
      "..   ..  ..           ...  \n",
      "163   5   2        133756  \n",
      "164   1   1        133756  \n",
      "165   0   0        133756  \n",
      "166   2   1        133756  \n",
      "167   0   0        133756  \n",
      "\n",
      "[168 rows x 16 columns]\n",
      "      Team  Pistol  Eco  Eco won  Semi_eco  Semi_eco won  Semi_buy  \\\n",
      "0      MOX       2    2        2         1             0         4   \n",
      "1   UC.Fem       0    4        1         0             0         3   \n",
      "2      MOX       2    2        2         0             0         4   \n",
      "3   UC.Fem       0    4        0         2             0         5   \n",
      "4      WLG       1    3        2         1             1         2   \n",
      "5       OP       1    2        1         3             0         7   \n",
      "6      WLG       0    4        0         2             0         6   \n",
      "7       OP       2    2        2         0             0         5   \n",
      "8      WLG       2    2        2         5             4         3   \n",
      "9       OP       0    2        0         3             2         8   \n",
      "10     WLG       1    4        1         1             0         2   \n",
      "11      OP       1    2        1         1             0         9   \n",
      "12     FCY       1    3        1         0             0         6   \n",
      "13     XIA       1    3        1         1             1         6   \n",
      "14     FCY       1    3        1         1             1        10   \n",
      "15     XIA       1    3        1         1             0         7   \n",
      "16      B8       1    2        1         2             0         6   \n",
      "17  DEMURY       1    3        1         1             0         8   \n",
      "18      B8       1    3        1         1             0         4   \n",
      "19  DEMURY       1    3        1         1             0         9   \n",
      "20      B8       2    2        2         1             0         4   \n",
      "21  DEMURY       0    4        0         0             0         6   \n",
      "22     ONE       2    2        2         2             0         7   \n",
      "23     BME       0    4        0         1             0         1   \n",
      "24     ONE       2    2        2         1             1         5   \n",
      "25     BME       0    5        0         3             2         2   \n",
      "26     ONE       2    2        2         1             0         6   \n",
      "27     BME       0    4        0         0             0         3   \n",
      "28     BLD       2    2        2         0             0         4   \n",
      "29     OGS       0    4        0         3             0         3   \n",
      "30     BLD       2    2        2         2             0         6   \n",
      "31     OGS       0    4        2         1             0         4   \n",
      "32     BLD       1    2        1         1             0         7   \n",
      "33     OGS       1    3        1         2             1         3   \n",
      "\n",
      "    Semi_buy won  Full_buy  Full_buy won  data_game_id  \n",
      "0              1        15            10        133573  \n",
      "1              2        15             6        133573  \n",
      "2              2        10             9        133574  \n",
      "3              2         5             1        133574  \n",
      "4              1        13             9        133673  \n",
      "5              2         7             3        133673  \n",
      "6              3         4             0        133674  \n",
      "7              3         9             8        133674  \n",
      "8              2        12             5        133675  \n",
      "9              4         9             3        133675  \n",
      "10             1        12            11        133676  \n",
      "11             4         7             1        133676  \n",
      "12             5         8             7        133730  \n",
      "13             1         7             1        133730  \n",
      "14             8         6             3        133731  \n",
      "15             2         9             4        133731  \n",
      "16             4        13             8        133812  \n",
      "17             3        11             6        133812  \n",
      "18             4        16             8        133813  \n",
      "19             6        11             4        133813  \n",
      "20             3        12             8        133814  \n",
      "21             2         9             4        133814  \n",
      "22             3        11             4        133727  \n",
      "23             1        16            12        133727  \n",
      "24             3        11             7        133728  \n",
      "25             2         9             2        133728  \n",
      "26             4        12             7        133729  \n",
      "27             1        14             7        133729  \n",
      "28             3        13             8        133754  \n",
      "29             2         9             4        133754  \n",
      "30             2        16             8        133755  \n",
      "31             2        17            10        133755  \n",
      "32             4        13             8        133756  \n",
      "33             3        15             5        133756  \n"
     ]
    }
   ],
   "source": [
    "print(overview)\n",
    "print(perform)\n",
    "print(econ)"
   ]
  },
  {
   "cell_type": "code",
   "execution_count": 106,
   "metadata": {},
   "outputs": [
    {
     "name": "stdout",
     "output_type": "stream",
     "text": [
      "Churraaaa 9\n",
      "Churraaaa 9\n",
      "True\n"
     ]
    }
   ],
   "source": [
    "print(overview['Player'][0],len(overview['Player'][0]))\n",
    "print(perform['Player'][0],len(perform['Player'][0]))\n",
    "print(overview['Player'][0]==perform['Player'][0])"
   ]
  },
  {
   "cell_type": "code",
   "execution_count": 91,
   "metadata": {},
   "outputs": [],
   "source": [
    "def remove_space(df):\n",
    "    df = df.applymap(lambda x: x.strip() if isinstance(x, str) else x)\n",
    "    return df\n"
   ]
  },
  {
   "cell_type": "code",
   "execution_count": 121,
   "metadata": {},
   "outputs": [],
   "source": [
    "overview= remove_space(overview)\n",
    "overview = overview.drop(['Team'],axis=1)\n",
    "perform = remove_space(perform)\n",
    "econ = remove_space(econ)"
   ]
  },
  {
   "cell_type": "code",
   "execution_count": 122,
   "metadata": {},
   "outputs": [],
   "source": [
    "columns = ['Player', 'VS_Team', 'R', 'ACS', 'K', 'D', 'A', 'K_D', 'KAST', 'ADR', 'HS%', 'FK', 'FD', 'FK_FD', 'TCT', 'Map', 'RunTime', 'First_half', 'Second_half', 'Conti_score', 'Extended_round', 'Score', 'Winner', 'Op_kill', '2K', '3K', '4K', '5K', '1v1', '1v2', '1v3', '1v4', '1v5', 'ECON', 'PL', 'DE', 'Team', 'Pistol', 'Eco', 'Eco won', 'Semi_eco', 'Semi_eco won', 'Semi_buy', 'Semi_buy won', 'Full_buy', 'Full_buy won', 'data_game_id']\n",
    "df = pd.DataFrame(columns = columns)"
   ]
  },
  {
   "cell_type": "code",
   "execution_count": 126,
   "metadata": {},
   "outputs": [],
   "source": [
    "df1 = pd.merge(overview,perform,on=['Player','data_game_id'],how='outer')\n",
    "df = pd.merge(df1,econ,on=['Team','data_game_id'],how='outer')"
   ]
  },
  {
   "cell_type": "code",
   "execution_count": 127,
   "metadata": {},
   "outputs": [
    {
     "name": "stdout",
     "output_type": "stream",
     "text": [
      "        Player VS_Team     R    ACS     K    D    A  K_D KAST    ADR  ...  \\\n",
      "0    Churraaaa  UC.Fem  0.83  192.0   7.0  7.0  0.0  0.0  50%   98.0  ...   \n",
      "1    Churraaaa  UC.Fem  1.88  369.0  15.0  7.0  5.0  8.0  92%  265.0  ...   \n",
      "2    Coalflake  UC.Fem  1.36  184.0   7.0  3.0  0.0  4.0  80%  127.0  ...   \n",
      "3    Coalflake  UC.Fem  1.15  181.0   8.0  6.0  4.0  2.0  83%  127.0  ...   \n",
      "4     shazmoon  UC.Fem  0.91  181.0   6.0  7.0  3.0 -1.0  70%  124.0  ...   \n",
      "..         ...     ...   ...    ...   ...  ...  ...  ...  ...    ...  ...   \n",
      "340        NaN     NaN   NaN    NaN   NaN  NaN  NaN  NaN  NaN    NaN  ...   \n",
      "341        NaN     NaN   NaN    NaN   NaN  NaN  NaN  NaN  NaN    NaN  ...   \n",
      "342        NaN     NaN   NaN    NaN   NaN  NaN  NaN  NaN  NaN    NaN  ...   \n",
      "343        NaN     NaN   NaN    NaN   NaN  NaN  NaN  NaN  NaN    NaN  ...   \n",
      "344        NaN     NaN   NaN    NaN   NaN  NaN  NaN  NaN  NaN    NaN  ...   \n",
      "\n",
      "      DE  Pistol  Eco  Eco won Semi_eco Semi_eco won Semi_buy  Semi_buy won  \\\n",
      "0    1.0     2.0  2.0      2.0      1.0          0.0      4.0           1.0   \n",
      "1    1.0     2.0  2.0      2.0      1.0          0.0      4.0           1.0   \n",
      "2    2.0     2.0  2.0      2.0      1.0          0.0      4.0           1.0   \n",
      "3    2.0     2.0  2.0      2.0      1.0          0.0      4.0           1.0   \n",
      "4    1.0     2.0  2.0      2.0      1.0          0.0      4.0           1.0   \n",
      "..   ...     ...  ...      ...      ...          ...      ...           ...   \n",
      "340  NaN     0.0  4.0      1.0      0.0          0.0      3.0           2.0   \n",
      "341  NaN     0.0  4.0      0.0      2.0          0.0      5.0           2.0   \n",
      "342  NaN     1.0  3.0      1.0      1.0          0.0      8.0           3.0   \n",
      "343  NaN     1.0  3.0      1.0      1.0          0.0      9.0           6.0   \n",
      "344  NaN     0.0  4.0      0.0      0.0          0.0      6.0           2.0   \n",
      "\n",
      "     Full_buy  Full_buy won  \n",
      "0        15.0          10.0  \n",
      "1        15.0          10.0  \n",
      "2        15.0          10.0  \n",
      "3        15.0          10.0  \n",
      "4        15.0          10.0  \n",
      "..        ...           ...  \n",
      "340      15.0           6.0  \n",
      "341       5.0           1.0  \n",
      "342      11.0           6.0  \n",
      "343      11.0           4.0  \n",
      "344       9.0           4.0  \n",
      "\n",
      "[345 rows x 47 columns]\n"
     ]
    }
   ],
   "source": [
    "print(df)"
   ]
  },
  {
   "cell_type": "code",
   "execution_count": 102,
   "metadata": {},
   "outputs": [],
   "source": [
    "df.to_csv('C:/Users/WTA/crawler/df.csv',index=False)"
   ]
  }
 ],
 "metadata": {
  "kernelspec": {
   "display_name": "Python 3",
   "language": "python",
   "name": "python3"
  },
  "language_info": {
   "codemirror_mode": {
    "name": "ipython",
    "version": 3
   },
   "file_extension": ".py",
   "mimetype": "text/x-python",
   "name": "python",
   "nbconvert_exporter": "python",
   "pygments_lexer": "ipython3",
   "version": "3.10.5"
  },
  "orig_nbformat": 4
 },
 "nbformat": 4,
 "nbformat_minor": 2
}
